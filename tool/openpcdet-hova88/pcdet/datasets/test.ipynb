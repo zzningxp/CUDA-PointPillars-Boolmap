{
 "cells": [
  {
   "cell_type": "code",
   "execution_count": 2,
   "metadata": {},
   "outputs": [],
   "source": [
    "import numpy as np\n",
    "import json\n",
    "import pickle\n",
    "import math"
   ]
  },
  {
   "cell_type": "code",
   "execution_count": 4,
   "metadata": {},
   "outputs": [],
   "source": [
    "i1 = pickle.load(open('nuscenes_infos_1sweeps_val.pkl', 'rb'))\n",
    "# i2 = pickle.load(open('nuscenes_infos_1sweeps_val_.pkl', 'rb'))\n",
    "# i3 = pickle.load(open('nuscenes_infos_.pkl', 'rb'))\n"
   ]
  },
  {
   "cell_type": "code",
   "execution_count": 6,
   "metadata": {},
   "outputs": [
    {
     "name": "stdout",
     "output_type": "stream",
     "text": [
      "3.0106929596902186\n",
      "-0.9373641387188348\n",
      "3.019146964833593\n",
      "-3.0543261909900767\n",
      "-3.115412714809878\n",
      "-3.0543261909900767\n",
      "-0.48534625488130073\n",
      "-0.48534625488130073\n",
      "-0.48534625488130073\n",
      "2.853613327010729\n",
      "-0.48534625488130073\n",
      "3.0630528372500483\n",
      "3.115412714809878\n",
      "3.07177948351002\n",
      "3.0194196059501897\n",
      "3.0630528372500483\n",
      "-1.4243273605434301\n",
      "-0.48534625488130073\n",
      "3.0105566058424063\n",
      "-3.115412714809878\n",
      "-3.115412714809878\n",
      "-3.0956137974147944\n",
      "-0.48534625488130073\n",
      "3.0805061297699914\n",
      "-0.48534625488130073\n",
      "-0.48534625488130073\n",
      "3.036872898470133\n",
      "3.0630528372500483\n",
      "-2.853613327010729\n",
      "-3.120159870522498\n",
      "3.0630528372500483\n",
      "-3.0543261909900767\n"
     ]
    }
   ],
   "source": [
    "for i in range(100):\n",
    "    try:\n",
    "        print(i1[i]['gt_boxes'][0][6])\n",
    "        # , i2[i]['gt_boxes'][0][6], i3[i]['gt_boxes'][0][6])\n",
    "    except:\n",
    "        pass"
   ]
  },
  {
   "cell_type": "code",
   "execution_count": 8,
   "metadata": {},
   "outputs": [
    {
     "ename": "NameError",
     "evalue": "name 'a' is not defined",
     "output_type": "error",
     "traceback": [
      "\u001b[0;31m---------------------------------------------------------------------------\u001b[0m",
      "\u001b[0;31mNameError\u001b[0m                                 Traceback (most recent call last)",
      "\u001b[0;32m/tmp/ipykernel_21557/3240691712.py\u001b[0m in \u001b[0;36m<module>\u001b[0;34m\u001b[0m\n\u001b[1;32m      1\u001b[0m \u001b[0mrec_interp\u001b[0m \u001b[0;34m=\u001b[0m \u001b[0mnp\u001b[0m\u001b[0;34m.\u001b[0m\u001b[0mlinspace\u001b[0m\u001b[0;34m(\u001b[0m\u001b[0;36m0\u001b[0m\u001b[0;34m,\u001b[0m \u001b[0;36m1\u001b[0m\u001b[0;34m,\u001b[0m \u001b[0;36m101\u001b[0m\u001b[0;34m)\u001b[0m\u001b[0;34m\u001b[0m\u001b[0;34m\u001b[0m\u001b[0m\n\u001b[0;32m----> 2\u001b[0;31m \u001b[0mnp\u001b[0m\u001b[0;34m.\u001b[0m\u001b[0minterp\u001b[0m\u001b[0;34m(\u001b[0m\u001b[0mrec_interp\u001b[0m\u001b[0;34m,\u001b[0m \u001b[0ma\u001b[0m\u001b[0;34m,\u001b[0m \u001b[0mb\u001b[0m\u001b[0;34m)\u001b[0m\u001b[0;34m\u001b[0m\u001b[0;34m\u001b[0m\u001b[0m\n\u001b[0m",
      "\u001b[0;31mNameError\u001b[0m: name 'a' is not defined"
     ]
    },
    {
     "ename": "",
     "evalue": "",
     "output_type": "error",
     "traceback": [
      "\u001b[1;31mThe Kernel crashed while executing code in the the current cell or a previous cell. Please review the code in the cell(s) to identify a possible cause of the failure. Click <a href='https://aka.ms/vscodeJupyterKernelCrash'>here</a> for more info. View Jupyter <a href='command:jupyter.viewOutput'>log</a> for further details."
     ]
    }
   ],
   "source": [
    "rec_interp = np.linspace(0, 1, 101) \n",
    "np.interp(rec_interp, a, b)"
   ]
  }
 ],
 "metadata": {
  "kernelspec": {
   "display_name": "Python 3.7.13 ('py37')",
   "language": "python",
   "name": "python3"
  },
  "language_info": {
   "codemirror_mode": {
    "name": "ipython",
    "version": 3
   },
   "file_extension": ".py",
   "mimetype": "text/x-python",
   "name": "python",
   "nbconvert_exporter": "python",
   "pygments_lexer": "ipython3",
   "version": "3.7.13"
  },
  "orig_nbformat": 4,
  "vscode": {
   "interpreter": {
    "hash": "e46dedad8a1a5f33588545fe074fa926e44fbd47f9fc6c9c402f572878c9f51b"
   }
  }
 },
 "nbformat": 4,
 "nbformat_minor": 2
}
